{
 "cells": [
  {
   "cell_type": "markdown",
   "metadata": {},
   "source": [
    "# Capstone Project - The Battle of Neighborhoods (Week 1)"
   ]
  },
  {
   "cell_type": "markdown",
   "metadata": {},
   "source": [
    "#### A description of the problem and a discussion of the background. (15 marks) \n",
    "\n",
    "Clearly define a problem or an idea of your choice, where you would need to leverage the Foursquare location data to solve or execute. Remember that data science problems always target an audience and are meant to help a group of stakeholders solve a problem, so make sure that you explicitly describe your audience and why they would care about your problem."
   ]
  },
  {
   "cell_type": "markdown",
   "metadata": {},
   "source": [
    "##### Description of the problem\n",
    "\n",
    "In this project, we would like to determine which district is suitable for handling pandemic COVID-19, by finding out the ratio of hospital beds per hundred people for the district and expected to help indicate areas in other hospitals but in many situations, there are still many factors to consider this project is simulated by some factors not suitable for these situations.\n"
   ]
  },
  {
   "cell_type": "markdown",
   "metadata": {},
   "source": [
    "---"
   ]
  },
  {
   "cell_type": "markdown",
   "metadata": {},
   "source": [
    "#### A description of the data and how it will be used to solve the problem. (15 marks)\n",
    "\n",
    "Describe the data that you will be using to solve the problem or execute your idea. Remember that you will need to use the Foursquare location data to solve the problem or execute your idea. You can absolutely use other datasets in combination with the Foursquare location data. So make sure that you provide adequate explanation and discussion, with examples, of the data that you will be using, even if it is only Foursquare location data."
   ]
  },
  {
   "cell_type": "markdown",
   "metadata": {},
   "source": [
    "##### Description of the data\n",
    "\n",
    "Data sources used for the analysis.\n",
    "Bangkok Distract List and Population: The information obtained i.e. the table of postcodes was transformed into a pandas data frame for further analysis. \n",
    "Source: https://en.wikipedia.org/wiki/List_of_districts_of_Bangkok\n",
    "\n",
    "List of Hospital in Thailand: to getting hospital bed information.\n",
    "Source: https://en.wikipedia.org/wiki/List_of_hospitals_in_Thailand\n",
    "\n",
    "Coordinate and list of hospitals in Bangkok city.\n",
    "Source: Using “Foursquare” to getting the latitude and longitude coordinate\n",
    "\n",
    "Coordinate data for each district in Bangkok\n",
    "Source: “Geocoder” from “Google Map API” to getting the location."
   ]
  },
  {
   "cell_type": "markdown",
   "metadata": {},
   "source": [
    "### I have attached photos on the main page. Thank you\n",
    "https://github.com/tgmumean/The-Battle-of-Neighborhoods/blob/master/capture-20200425-114353.png\n",
    "\n",
    "https://github.com/tgmumean/The-Battle-of-Neighborhoods/blob/master/capture-20200425-114452.png"
   ]
  },
  {
   "cell_type": "code",
   "execution_count": null,
   "metadata": {},
   "outputs": [],
   "source": []
  }
 ],
 "metadata": {
  "kernelspec": {
   "display_name": "Python 3",
   "language": "python",
   "name": "python3"
  },
  "language_info": {
   "codemirror_mode": {
    "name": "ipython",
    "version": 3
   },
   "file_extension": ".py",
   "mimetype": "text/x-python",
   "name": "python",
   "nbconvert_exporter": "python",
   "pygments_lexer": "ipython3",
   "version": "3.7.4"
  }
 },
 "nbformat": 4,
 "nbformat_minor": 4
}
